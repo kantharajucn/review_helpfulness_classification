{
 "cells": [
  {
   "cell_type": "markdown",
   "metadata": {},
   "source": [
    "# Predicting the Review Helpfulness"
   ]
  },
  {
   "cell_type": "markdown",
   "metadata": {},
   "source": [
    "## Prediction using Traditional ML"
   ]
  },
  {
   "cell_type": "markdown",
   "metadata": {},
   "source": [
    "### Importing all the necessary libraries "
   ]
  },
  {
   "cell_type": "code",
   "execution_count": 60,
   "metadata": {},
   "outputs": [
    {
     "name": "stderr",
     "output_type": "stream",
     "text": [
      "[nltk_data] Downloading package stopwords to /root/nltk_data...\n",
      "[nltk_data]   Package stopwords is already up-to-date!\n"
     ]
    },
    {
     "data": {
      "text/plain": [
       "True"
      ]
     },
     "execution_count": 60,
     "metadata": {},
     "output_type": "execute_result"
    }
   ],
   "source": [
    "import tensorflow as tf\n",
    "import numpy as np\n",
    "import matplotlib.pyplot as plt\n",
    "import pandas as pd\n",
    "import sys\n",
    "import keras\n",
    "import string\n",
    "import nltk\n",
    "import pydotplus\n",
    "from nltk.corpus import stopwords\n",
    "from sklearn.feature_extraction.text import TfidfVectorizer, CountVectorizer, TfidfTransformer\n",
    "from sklearn.svm import LinearSVC\n",
    "from sklearn.pipeline import Pipeline\n",
    "from sklearn.model_selection import GridSearchCV\n",
    "from sklearn.datasets import load_files\n",
    "from sklearn.model_selection import train_test_split\n",
    "from sklearn import metrics\n",
    "from sklearn.linear_model import SGDClassifier\n",
    "from sklearn.ensemble import RandomForestClassifier\n",
    "from sklearn.metrics import confusion_matrix\n",
    "from sklearn.metrics import accuracy_score\n",
    "from sklearn.metrics import classification_report\n",
    "from keras.layers import Embedding\n",
    "from keras.models import Model\n",
    "from keras.layers import Dense, Input, Dropout, LSTM, Activation\n",
    "from keras.preprocessing.text import Tokenizer\n",
    "from keras.preprocessing.sequence import pad_sequences\n",
    "from keras.callbacks import ModelCheckpoint, EarlyStopping\n",
    "from keras.models import load_model\n",
    "from keras.utils import plot_model\n",
    "from IPython.display import SVG\n",
    "import pydot as pyd\n",
    "from IPython.display import SVG\n",
    "from keras.utils.vis_utils import model_to_dot\n",
    "nltk.download('stopwords')"
   ]
  },
  {
   "cell_type": "code",
   "execution_count": 3,
   "metadata": {},
   "outputs": [
    {
     "data": {
      "text/html": [
       "<div>\n",
       "<style scoped>\n",
       "    .dataframe tbody tr th:only-of-type {\n",
       "        vertical-align: middle;\n",
       "    }\n",
       "\n",
       "    .dataframe tbody tr th {\n",
       "        vertical-align: top;\n",
       "    }\n",
       "\n",
       "    .dataframe thead th {\n",
       "        text-align: right;\n",
       "    }\n",
       "</style>\n",
       "<table border=\"1\" class=\"dataframe\">\n",
       "  <thead>\n",
       "    <tr style=\"text-align: right;\">\n",
       "      <th></th>\n",
       "      <th>asin</th>\n",
       "      <th>helpful</th>\n",
       "      <th>overall</th>\n",
       "      <th>reviewText</th>\n",
       "      <th>reviewTime</th>\n",
       "      <th>reviewerID</th>\n",
       "      <th>reviewerName</th>\n",
       "      <th>summary</th>\n",
       "      <th>unixReviewTime</th>\n",
       "    </tr>\n",
       "  </thead>\n",
       "  <tbody>\n",
       "    <tr>\n",
       "      <th>0</th>\n",
       "      <td>0345329139</td>\n",
       "      <td>[1, 1]</td>\n",
       "      <td>5</td>\n",
       "      <td>This book is definitely a &amp;quot;must read.&amp;quo...</td>\n",
       "      <td>10 3, 2001</td>\n",
       "      <td>A2UNA438B0FRA8</td>\n",
       "      <td>J. Belfield</td>\n",
       "      <td>HILARIOUS!!!</td>\n",
       "      <td>1002067200</td>\n",
       "    </tr>\n",
       "    <tr>\n",
       "      <th>1</th>\n",
       "      <td>1419705644</td>\n",
       "      <td>[0, 0]</td>\n",
       "      <td>5</td>\n",
       "      <td>This is a really cool book for any adventure t...</td>\n",
       "      <td>03 20, 2014</td>\n",
       "      <td>A3ZV5ORJ94H2W</td>\n",
       "      <td>Cherish Woodring \"Cherry\"</td>\n",
       "      <td>awesome!</td>\n",
       "      <td>1395273600</td>\n",
       "    </tr>\n",
       "    <tr>\n",
       "      <th>2</th>\n",
       "      <td>0062257242</td>\n",
       "      <td>[7, 8]</td>\n",
       "      <td>4</td>\n",
       "      <td>I originally got this book because I wanted to...</td>\n",
       "      <td>04 1, 2014</td>\n",
       "      <td>A1UWPSFAJKKAW0</td>\n",
       "      <td>Mrs. Baumann</td>\n",
       "      <td>A fast-paced horror novel, but too scary for m...</td>\n",
       "      <td>1396310400</td>\n",
       "    </tr>\n",
       "    <tr>\n",
       "      <th>3</th>\n",
       "      <td>0778316084</td>\n",
       "      <td>[0, 0]</td>\n",
       "      <td>3</td>\n",
       "      <td>This was my second least favorite of the Sulli...</td>\n",
       "      <td>04 3, 2013</td>\n",
       "      <td>AQRTK4Q9CCOVE</td>\n",
       "      <td>Renee M</td>\n",
       "      <td>Ok read</td>\n",
       "      <td>1364947200</td>\n",
       "    </tr>\n",
       "    <tr>\n",
       "      <th>4</th>\n",
       "      <td>B00HTCC26C</td>\n",
       "      <td>[0, 0]</td>\n",
       "      <td>3</td>\n",
       "      <td>I choose this book because I like the show, bu...</td>\n",
       "      <td>05 15, 2014</td>\n",
       "      <td>A2TCOVTJG32S6L</td>\n",
       "      <td>melonie</td>\n",
       "      <td>Short but pretty good</td>\n",
       "      <td>1400112000</td>\n",
       "    </tr>\n",
       "  </tbody>\n",
       "</table>\n",
       "</div>"
      ],
      "text/plain": [
       "         asin helpful  overall  \\\n",
       "0  0345329139  [1, 1]        5   \n",
       "1  1419705644  [0, 0]        5   \n",
       "2  0062257242  [7, 8]        4   \n",
       "3  0778316084  [0, 0]        3   \n",
       "4  B00HTCC26C  [0, 0]        3   \n",
       "\n",
       "                                          reviewText   reviewTime  \\\n",
       "0  This book is definitely a &quot;must read.&quo...   10 3, 2001   \n",
       "1  This is a really cool book for any adventure t...  03 20, 2014   \n",
       "2  I originally got this book because I wanted to...   04 1, 2014   \n",
       "3  This was my second least favorite of the Sulli...   04 3, 2013   \n",
       "4  I choose this book because I like the show, bu...  05 15, 2014   \n",
       "\n",
       "       reviewerID               reviewerName  \\\n",
       "0  A2UNA438B0FRA8                J. Belfield   \n",
       "1   A3ZV5ORJ94H2W  Cherish Woodring \"Cherry\"   \n",
       "2  A1UWPSFAJKKAW0               Mrs. Baumann   \n",
       "3   AQRTK4Q9CCOVE                    Renee M   \n",
       "4  A2TCOVTJG32S6L                    melonie   \n",
       "\n",
       "                                             summary  unixReviewTime  \n",
       "0                                       HILARIOUS!!!      1002067200  \n",
       "1                                           awesome!      1395273600  \n",
       "2  A fast-paced horror novel, but too scary for m...      1396310400  \n",
       "3                                            Ok read      1364947200  \n",
       "4                              Short but pretty good      1400112000  "
      ]
     },
     "execution_count": 3,
     "metadata": {},
     "output_type": "execute_result"
    }
   ],
   "source": [
    "# Reading the dataset from the zip file\n",
    "df = pd.read_json('./data/sample_dataset.json', lines=True)\n",
    "df.head()"
   ]
  },
  {
   "cell_type": "code",
   "execution_count": 4,
   "metadata": {},
   "outputs": [
    {
     "name": "stdout",
     "output_type": "stream",
     "text": [
      "Column-0 - asin\n",
      "Column-1 - helpful\n",
      "Column-2 - overall\n",
      "Column-3 - reviewText\n",
      "Column-4 - reviewTime\n",
      "Column-5 - reviewerID\n",
      "Column-6 - reviewerName\n",
      "Column-7 - summary\n",
      "Column-8 - unixReviewTime\n",
      "Shape - (50000, 9)\n"
     ]
    }
   ],
   "source": [
    "# Summary of the Dataset\n",
    "for index, column in enumerate(df.columns):\n",
    "    print('Column-{} - {}'.format(index, column))\n",
    "print('Shape - {}'.format(df.shape))\n"
   ]
  },
  {
   "cell_type": "code",
   "execution_count": 5,
   "metadata": {},
   "outputs": [],
   "source": [
    "# Calculating the helpfulness Ratio\n",
    "def find_helpful_ratio(helpful_list):\n",
    "    if helpful_list[1] > 0:\n",
    "        return 1 if helpful_list[0]/helpful_list[1] >=0.5 else 0\n",
    "    else:\n",
    "        return 0"
   ]
  },
  {
   "cell_type": "code",
   "execution_count": 6,
   "metadata": {},
   "outputs": [
    {
     "data": {
      "text/html": [
       "<div>\n",
       "<style scoped>\n",
       "    .dataframe tbody tr th:only-of-type {\n",
       "        vertical-align: middle;\n",
       "    }\n",
       "\n",
       "    .dataframe tbody tr th {\n",
       "        vertical-align: top;\n",
       "    }\n",
       "\n",
       "    .dataframe thead th {\n",
       "        text-align: right;\n",
       "    }\n",
       "</style>\n",
       "<table border=\"1\" class=\"dataframe\">\n",
       "  <thead>\n",
       "    <tr style=\"text-align: right;\">\n",
       "      <th></th>\n",
       "      <th>asin</th>\n",
       "      <th>helpful</th>\n",
       "      <th>overall</th>\n",
       "      <th>reviewText</th>\n",
       "      <th>reviewTime</th>\n",
       "      <th>reviewerID</th>\n",
       "      <th>reviewerName</th>\n",
       "      <th>summary</th>\n",
       "      <th>unixReviewTime</th>\n",
       "      <th>helpfulness_raatio</th>\n",
       "    </tr>\n",
       "  </thead>\n",
       "  <tbody>\n",
       "    <tr>\n",
       "      <th>0</th>\n",
       "      <td>0345329139</td>\n",
       "      <td>[1, 1]</td>\n",
       "      <td>5</td>\n",
       "      <td>This book is definitely a &amp;quot;must read.&amp;quo...</td>\n",
       "      <td>10 3, 2001</td>\n",
       "      <td>A2UNA438B0FRA8</td>\n",
       "      <td>J. Belfield</td>\n",
       "      <td>HILARIOUS!!!</td>\n",
       "      <td>1002067200</td>\n",
       "      <td>1</td>\n",
       "    </tr>\n",
       "    <tr>\n",
       "      <th>1</th>\n",
       "      <td>1419705644</td>\n",
       "      <td>[0, 0]</td>\n",
       "      <td>5</td>\n",
       "      <td>This is a really cool book for any adventure t...</td>\n",
       "      <td>03 20, 2014</td>\n",
       "      <td>A3ZV5ORJ94H2W</td>\n",
       "      <td>Cherish Woodring \"Cherry\"</td>\n",
       "      <td>awesome!</td>\n",
       "      <td>1395273600</td>\n",
       "      <td>0</td>\n",
       "    </tr>\n",
       "    <tr>\n",
       "      <th>2</th>\n",
       "      <td>0062257242</td>\n",
       "      <td>[7, 8]</td>\n",
       "      <td>4</td>\n",
       "      <td>I originally got this book because I wanted to...</td>\n",
       "      <td>04 1, 2014</td>\n",
       "      <td>A1UWPSFAJKKAW0</td>\n",
       "      <td>Mrs. Baumann</td>\n",
       "      <td>A fast-paced horror novel, but too scary for m...</td>\n",
       "      <td>1396310400</td>\n",
       "      <td>1</td>\n",
       "    </tr>\n",
       "    <tr>\n",
       "      <th>3</th>\n",
       "      <td>0778316084</td>\n",
       "      <td>[0, 0]</td>\n",
       "      <td>3</td>\n",
       "      <td>This was my second least favorite of the Sulli...</td>\n",
       "      <td>04 3, 2013</td>\n",
       "      <td>AQRTK4Q9CCOVE</td>\n",
       "      <td>Renee M</td>\n",
       "      <td>Ok read</td>\n",
       "      <td>1364947200</td>\n",
       "      <td>0</td>\n",
       "    </tr>\n",
       "    <tr>\n",
       "      <th>4</th>\n",
       "      <td>B00HTCC26C</td>\n",
       "      <td>[0, 0]</td>\n",
       "      <td>3</td>\n",
       "      <td>I choose this book because I like the show, bu...</td>\n",
       "      <td>05 15, 2014</td>\n",
       "      <td>A2TCOVTJG32S6L</td>\n",
       "      <td>melonie</td>\n",
       "      <td>Short but pretty good</td>\n",
       "      <td>1400112000</td>\n",
       "      <td>0</td>\n",
       "    </tr>\n",
       "  </tbody>\n",
       "</table>\n",
       "</div>"
      ],
      "text/plain": [
       "         asin helpful  overall  \\\n",
       "0  0345329139  [1, 1]        5   \n",
       "1  1419705644  [0, 0]        5   \n",
       "2  0062257242  [7, 8]        4   \n",
       "3  0778316084  [0, 0]        3   \n",
       "4  B00HTCC26C  [0, 0]        3   \n",
       "\n",
       "                                          reviewText   reviewTime  \\\n",
       "0  This book is definitely a &quot;must read.&quo...   10 3, 2001   \n",
       "1  This is a really cool book for any adventure t...  03 20, 2014   \n",
       "2  I originally got this book because I wanted to...   04 1, 2014   \n",
       "3  This was my second least favorite of the Sulli...   04 3, 2013   \n",
       "4  I choose this book because I like the show, bu...  05 15, 2014   \n",
       "\n",
       "       reviewerID               reviewerName  \\\n",
       "0  A2UNA438B0FRA8                J. Belfield   \n",
       "1   A3ZV5ORJ94H2W  Cherish Woodring \"Cherry\"   \n",
       "2  A1UWPSFAJKKAW0               Mrs. Baumann   \n",
       "3   AQRTK4Q9CCOVE                    Renee M   \n",
       "4  A2TCOVTJG32S6L                    melonie   \n",
       "\n",
       "                                             summary  unixReviewTime  \\\n",
       "0                                       HILARIOUS!!!      1002067200   \n",
       "1                                           awesome!      1395273600   \n",
       "2  A fast-paced horror novel, but too scary for m...      1396310400   \n",
       "3                                            Ok read      1364947200   \n",
       "4                              Short but pretty good      1400112000   \n",
       "\n",
       "   helpfulness_raatio  \n",
       "0                   1  \n",
       "1                   0  \n",
       "2                   1  \n",
       "3                   0  \n",
       "4                   0  "
      ]
     },
     "execution_count": 6,
     "metadata": {},
     "output_type": "execute_result"
    }
   ],
   "source": [
    "df['helpfulness_raatio'] = df['helpful'].apply(func=find_helpful_ratio)\n",
    "df.head()"
   ]
  },
  {
   "cell_type": "code",
   "execution_count": 7,
   "metadata": {},
   "outputs": [
    {
     "data": {
      "text/plain": [
       "array([[<matplotlib.axes._subplots.AxesSubplot object at 0x7fbe77f98668>]],\n",
       "      dtype=object)"
      ]
     },
     "execution_count": 7,
     "metadata": {},
     "output_type": "execute_result"
    },
    {
     "data": {
      "image/png": "[encoded data removed]",
      "text/plain": [
       "<Figure size 432x288 with 1 Axes>"
      ]
     },
     "metadata": {
      "needs_background": "light"
     },
     "output_type": "display_data"
    }
   ],
   "source": [
    "# Plotting the distribution of the helpful ratio\n",
    "df.hist(column='helpfulness_raatio', bins=50)"
   ]
  },
  {
   "cell_type": "code",
   "execution_count": 8,
   "metadata": {},
   "outputs": [
    {
     "name": "stdout",
     "output_type": "stream",
     "text": [
      "50000\n",
      "37500 37500\n"
     ]
    }
   ],
   "source": [
    "# Splitting the dataset into train and test\n",
    "reviews = df['reviewText']\n",
    "labels =  df['helpfulness_raatio']\n",
    "print(len(labels))\n",
    "X_train, X_test, Y_train, Y_test = train_test_split(reviews, labels, test_size=0.25, random_state=1)\n",
    "print(len(X_train), len(Y_train))"
   ]
  },
  {
   "cell_type": "code",
   "execution_count": 9,
   "metadata": {},
   "outputs": [],
   "source": [
    "# Defining the pipeline\n",
    "\n",
    "def define_models():\n",
    "    model_svm = Pipeline([('vect', CountVectorizer()), ('tfidf', TfidfTransformer()), ('clf-svm', SGDClassifier()),])\n",
    "    parameters_svm = {'vect__ngram_range': [(1, 1), (1, 2)], 'tfidf__use_idf': (True, False), 'clf-svm__alpha': (1e-2, 1e-3)}\n",
    "    return [(model_svm, parameters_svm)]"
   ]
  },
  {
   "cell_type": "code",
   "execution_count": 10,
   "metadata": {},
   "outputs": [],
   "source": [
    "def tune_model(model, X, Y, metric='accuracy', cv=5):\n",
    "    clf = GridSearchCV(estimator=model[0],param_grid=model[1], cv=cv, scoring=metric)\n",
    "    clf.fit(X, Y)\n",
    "    best_score = clf.best_score_\n",
    "    best_model = clf\n",
    "    return (best_model, best_score)"
   ]
  },
  {
   "cell_type": "code",
   "execution_count": 11,
   "metadata": {},
   "outputs": [],
   "source": [
    "def get_best_models_and_parameters():\n",
    "    final_models = []\n",
    "    models = define_models()\n",
    "    for i in range(0,len(models)):\n",
    "        best_model_and_score = tune_model(models[i], X_train, Y_train)\n",
    "    final_models.append(best_model_and_score)\n",
    "    final_list=sorted(final_models, key=lambda score: score[1], reverse=True)\n",
    "    return final_list\n"
   ]
  },
  {
   "cell_type": "code",
   "execution_count": 12,
   "metadata": {},
   "outputs": [
    {
     "name": "stderr",
     "output_type": "stream",
     "text": [
      "/usr/local/lib/python3.5/dist-packages/sklearn/linear_model/stochastic_gradient.py:166: FutureWarning: max_iter and tol parameters have been added in SGDClassifier in 0.19. If both are left unset, they default to max_iter=5 and tol=None. If tol is not None, max_iter defaults to max_iter=1000. From 0.21, default max_iter will be 1000, and default tol will be 1e-3.\n",
      "  FutureWarning)\n"
     ]
    }
   ],
   "source": [
    "models_list = get_best_models_and_parameters()\n",
    "model = models_list[0][0]\n",
    "preds = model.predict(X_test)\n"
   ]
  },
  {
   "cell_type": "code",
   "execution_count": 13,
   "metadata": {},
   "outputs": [
    {
     "name": "stdout",
     "output_type": "stream",
     "text": [
      "[[5352 1768]\n",
      " [2544 2836]]\n"
     ]
    },
    {
     "data": {
      "image/png": "[encoded data removed]",
      "text/plain": [
       "<Figure size 432x288 with 2 Axes>"
      ]
     },
     "metadata": {
      "needs_background": "light"
     },
     "output_type": "display_data"
    }
   ],
   "source": [
    "report = confusion_matrix(Y_test, preds)\n",
    "labels = ['helpful', 'not helpful']\n",
    "print(report)\n",
    "fig = plt.figure()\n",
    "ax = fig.add_subplot(111)\n",
    "cax = ax.matshow(report)\n",
    "plt.title('Confusion matrix of the classifier')\n",
    "fig.colorbar(cax)\n",
    "ax.set_xticklabels([''] + labels)\n",
    "ax.set_yticklabels([''] + labels)\n",
    "plt.xlabel('Predicted')\n",
    "plt.ylabel('True')\n",
    "plt.show()"
   ]
  },
  {
   "cell_type": "code",
   "execution_count": 15,
   "metadata": {},
   "outputs": [
    {
     "name": "stdout",
     "output_type": "stream",
     "text": [
      "Accuracy: 0.65504\n",
      "Classification report\n",
      "              precision    recall  f1-score   support\n",
      "\n",
      "           0       0.68      0.75      0.71      7120\n",
      "           1       0.62      0.53      0.57      5380\n",
      "\n",
      "   micro avg       0.66      0.66      0.66     12500\n",
      "   macro avg       0.65      0.64      0.64     12500\n",
      "weighted avg       0.65      0.66      0.65     12500\n",
      "\n"
     ]
    }
   ],
   "source": [
    "print('Accuracy: {}'.format(accuracy_score(Y_test, preds)))\n",
    "cls_report = classification_report(Y_test, preds)\n",
    "print('Classification report')\n",
    "print(cls_report)"
   ]
  },
  {
   "cell_type": "markdown",
   "metadata": {},
   "source": [
    "## Prediction using Deep Learning"
   ]
  },
  {
   "cell_type": "code",
   "execution_count": 16,
   "metadata": {},
   "outputs": [],
   "source": [
    "def read_glove_vectors(glove_file_name):\n",
    "    with open(glove_file_name, 'r') as f:\n",
    "        words = set()\n",
    "        word_to_vector_map = {}\n",
    "        for line in f:\n",
    "            line = line.strip().split()\n",
    "            current_word = line[0]\n",
    "            words.add(current_word)\n",
    "            word_to_vector_map[current_word] = np.array(line[1:], dtype=np.float64)\n",
    "        \n",
    "        i = 1\n",
    "        words_to_index = {}\n",
    "        index_to_words = {}\n",
    "        for word in sorted(words):\n",
    "            words_to_index[word] = i\n",
    "            index_to_words[i] = word\n",
    "            i = i + 1\n",
    "    return words_to_index, index_to_words, word_to_vector_map"
   ]
  },
  {
   "cell_type": "code",
   "execution_count": 17,
   "metadata": {},
   "outputs": [],
   "source": [
    "#Reading word embeding\n",
    " words_to_index, index_to_words, word_to_vector_map = read_glove_vectors('./word_embeding/glove.6B/glove.6B.100d.txt')"
   ]
  },
  {
   "cell_type": "code",
   "execution_count": 18,
   "metadata": {},
   "outputs": [],
   "source": [
    "def cosine_similarity(u, v):\n",
    "    \"\"\"\n",
    "    Cosine similarity reflects the degree of similariy between u and v\n",
    "        \n",
    "    \"\"\"\n",
    "    distance = 0.0\n",
    "    dot = np.dot(u, v)\n",
    "    l2_norm_u = np.sqrt(np.sum(u**2))\n",
    "    l2_norm_v = np.sqrt(np.sum(v**2))\n",
    "    cosine_similarity = dot/(l2_norm_u * l2_norm_v)\n",
    "    return cosine_similarity"
   ]
  },
  {
   "cell_type": "code",
   "execution_count": 38,
   "metadata": {},
   "outputs": [
    {
     "name": "stderr",
     "output_type": "stream",
     "text": [
      "/usr/local/lib/python3.5/dist-packages/ipykernel_launcher.py:8: FutureWarning: elementwise comparison failed; returning scalar instead, but in the future will perform elementwise comparison\n",
      "  \n",
      "/usr/local/lib/python3.5/dist-packages/ipykernel_launcher.py:10: RuntimeWarning: invalid value encountered in double_scalars\n",
      "  # Remove the CWD from sys.path while we load stuff.\n"
     ]
    },
    {
     "name": "stdout",
     "output_type": "stream",
     "text": [
      "pregnant\n"
     ]
    }
   ],
   "source": [
    "#Sample word analogy using glove word embeding\n",
    "father = word_to_vector_map.get('father')\n",
    "mother = word_to_vector_map.get('mother')\n",
    "son = word_to_vector_map.get('husband')\n",
    "max_cosine_similarity = -1000\n",
    "best_word = None\n",
    "for word in word_to_vector_map.keys():\n",
    "    if word in (father, mother, son):\n",
    "        continue\n",
    "    cosine_sim = cosine_similarity(np.subtract(mother, father), np.subtract(word_to_vector_map.get(word), son))\n",
    "    if cosine_sim > max_cosine_similarity:\n",
    "        max_cosine_similarity = cosine_sim\n",
    "        best_word = word\n",
    "print(best_word)"
   ]
  },
  {
   "cell_type": "code",
   "execution_count": 19,
   "metadata": {},
   "outputs": [],
   "source": [
    "#Converting sentence to Indices\n",
    "def convert_sentence_to_indices(X, words_to_index, max_len):\n",
    "    \"\"\"\n",
    "    Convert the raw sentece into the its indices\n",
    "    \"\"\"\n",
    "    X = X.reset_index(drop=True)\n",
    "    m = X.shape[0]\n",
    "    indices = np.zeros((m, max_len))\n",
    "    table = str.maketrans('', '', string.punctuation)\n",
    "    stop_words = set(stopwords.words('english'))\n",
    "    for i in range(m):\n",
    "        tokens = X[i].lower().split()\n",
    "        stripped = [word.translate(table) for word in tokens]\n",
    "        words = [word for word in stripped if word.lower not in stop_words and word.isalpha()]\n",
    "        j = 0\n",
    "        for w in words:\n",
    "            vector = words_to_index.get(w)\n",
    "            if vector is not None:\n",
    "                indices[i,j] = words_to_index.get(w)\n",
    "                j = j + 1\n",
    "            if j >= max_len:\n",
    "                break\n",
    "    return indices"
   ]
  },
  {
   "cell_type": "code",
   "execution_count": 20,
   "metadata": {},
   "outputs": [],
   "source": [
    "#Create Embeding matrix\n",
    "def trained_embedding_layer():\n",
    "    vocab_len = len(words_to_index) + 1\n",
    "    emb_dim = word_to_vector_map.get('king').shape[0]\n",
    "    embeding_matrix = np.zeros((vocab_len, emb_dim))\n",
    "    \n",
    "    for word, index in words_to_index.items():\n",
    "        embeding_matrix[index, :] = word_to_vector_map.get(word)\n",
    "    layer = Embedding(vocab_len, emb_dim, trainable=False)\n",
    "    layer.build((None,))\n",
    "    layer.set_weights([embeding_matrix])\n",
    "    return layer"
   ]
  },
  {
   "cell_type": "code",
   "execution_count": 21,
   "metadata": {},
   "outputs": [],
   "source": [
    "def get_words_to_index():\n",
    "    tokonizer = Tokenizer(num_words=10000)\n",
    "    total_reviews = reviews.values\n",
    "    tokonizer.fit_on_texts(total_reviews)\n",
    "    encoded_docs = tokonizer.texts_to_sequences(total_reviews)\n",
    "    max_length = max([len(s.split()) for s in total_reviews])\n",
    "    vocab_size = len(tokonizer.word_index) + 1\n",
    "    padded_sequences = pad_sequences(encoded_docs, maxlen=max_length)\n",
    "    word_index = tokonizer.word_index\n",
    "    return vocab_size, word_index,padded_sequences, max_length"
   ]
  },
  {
   "cell_type": "code",
   "execution_count": 69,
   "metadata": {},
   "outputs": [],
   "source": [
    "# Build Helpfulness prediction model\n",
    "def helpfulness_model(input_shape):\n",
    "    # Define sentence indices as the input of the graph.\n",
    "    sentence_indices = Input(input_shape, dtype='int32')\n",
    "    # Create the embedding layer pretrained with GloVe Vectors (≈1 line)\n",
    "    embedding_layer = trained_embedding_layer()\n",
    "    \n",
    "    # Propagate sentence_indices through your embedding layer.\n",
    "    embeddings = embedding_layer(sentence_indices)\n",
    "    \n",
    "    # Propogate the embedings via LSTM cell of 64 units\n",
    "    X = LSTM(32, return_sequences=True)(embeddings)\n",
    "    # Add dropout with a probability of 0.5\n",
    "    X = Dropout(rate=0.5)(X)\n",
    "    # Propogate vis 64 units LSTM layer\n",
    "    X = LSTM(32, return_sequences=False)(X)\n",
    "    # Add dropout with a probability of 0.5\n",
    "    X = Dropout(rate=0.5)(X)\n",
    "    # Dense layer with 1 units\n",
    "    X = Dense(1, activation='sigmoid')(X)\n",
    "    X = Activation('sigmoid')(X)\n",
    "    # Create Model instance which converts sentence_indices into X.\n",
    "    model = Model(inputs=sentence_indices, outputs=X)\n",
    "   \n",
    "    return model"
   ]
  },
  {
   "cell_type": "code",
   "execution_count": 70,
   "metadata": {},
   "outputs": [
    {
     "name": "stdout",
     "output_type": "stream",
     "text": [
      "_________________________________________________________________\n",
      "Layer (type)                 Output Shape              Param #   \n",
      "=================================================================\n",
      "input_3 (InputLayer)         (None, 50)                0         \n",
      "_________________________________________________________________\n",
      "embedding_3 (Embedding)      (None, 50, 100)           40000100  \n",
      "_________________________________________________________________\n",
      "lstm_4 (LSTM)                (None, 50, 32)            17024     \n",
      "_________________________________________________________________\n",
      "dropout_3 (Dropout)          (None, 50, 32)            0         \n",
      "_________________________________________________________________\n",
      "lstm_5 (LSTM)                (None, 32)                8320      \n",
      "_________________________________________________________________\n",
      "dropout_4 (Dropout)          (None, 32)                0         \n",
      "_________________________________________________________________\n",
      "dense_2 (Dense)              (None, 1)                 33        \n",
      "_________________________________________________________________\n",
      "activation_2 (Activation)    (None, 1)                 0         \n",
      "=================================================================\n",
      "Total params: 40,025,477\n",
      "Trainable params: 25,377\n",
      "Non-trainable params: 40,000,100\n",
      "_________________________________________________________________\n"
     ]
    }
   ],
   "source": [
    "#Compile the model\n",
    "#vocab_size, word_index, padded_sequences, max_length = get_words_to_index()\n",
    "model = helpfulness_model((50,))\n",
    "model.summary()"
   ]
  },
  {
   "cell_type": "code",
   "execution_count": 71,
   "metadata": {},
   "outputs": [],
   "source": [
    "checkpointer = ModelCheckpoint(filepath='model/helpfulness_prediction_model.hdf5', monitor='val_acc', mode='max', verbose=1, save_best_only=True)\n",
    "early_stopping = EarlyStopping(monitor='val_loss', mode='min', verbose=1, patience=5)"
   ]
  },
  {
   "cell_type": "code",
   "execution_count": 72,
   "metadata": {},
   "outputs": [],
   "source": [
    "#compile the model\n",
    "model.compile(loss='binary_crossentropy', optimizer='adam', metrics=['accuracy'])"
   ]
  },
  {
   "cell_type": "code",
   "execution_count": 73,
   "metadata": {},
   "outputs": [],
   "source": [
    "#X_train, X_test, Y_train, Y_test = train_test_split(padded_sequences, labels, test_size=0.25, random_state=1)\n",
    "X_train_indices = convert_sentence_to_indices(X_train, words_to_index, 50)"
   ]
  },
  {
   "cell_type": "code",
   "execution_count": 74,
   "metadata": {},
   "outputs": [
    {
     "name": "stdout",
     "output_type": "stream",
     "text": [
      "Train on 30000 samples, validate on 7500 samples\n",
      "Epoch 1/50\n",
      "30000/30000 [==============================] - 46s 2ms/step - loss: 0.6949 - acc: 0.4316 - val_loss: 0.6932 - val_acc: 0.4387\n",
      "\n",
      "Epoch 00001: val_acc improved from -inf to 0.43867, saving model to model/helpfulness_prediction_model.hdf5\n",
      "Epoch 2/50\n",
      "30000/30000 [==============================] - 39s 1ms/step - loss: 0.6932 - acc: 0.4317 - val_loss: 0.6932 - val_acc: 0.4387\n",
      "\n",
      "Epoch 00002: val_acc did not improve from 0.43867\n",
      "Epoch 3/50\n",
      "30000/30000 [==============================] - 54s 2ms/step - loss: 0.6932 - acc: 0.4319 - val_loss: 0.6931 - val_acc: 0.4387\n",
      "\n",
      "Epoch 00003: val_acc did not improve from 0.43867\n",
      "Epoch 4/50\n",
      "30000/30000 [==============================] - 55s 2ms/step - loss: 0.6932 - acc: 0.4336 - val_loss: 0.6931 - val_acc: 0.4387\n",
      "\n",
      "Epoch 00004: val_acc did not improve from 0.43867\n",
      "Epoch 5/50\n",
      "30000/30000 [==============================] - 48s 2ms/step - loss: 0.6932 - acc: 0.4360 - val_loss: 0.6931 - val_acc: 0.4387\n",
      "\n",
      "Epoch 00005: val_acc did not improve from 0.43867\n",
      "Epoch 6/50\n",
      "30000/30000 [==============================] - 47s 2ms/step - loss: 0.6927 - acc: 0.4327 - val_loss: 0.6913 - val_acc: 0.4387\n",
      "\n",
      "Epoch 00006: val_acc did not improve from 0.43867\n",
      "Epoch 7/50\n",
      "30000/30000 [==============================] - 48s 2ms/step - loss: 0.6886 - acc: 0.4322 - val_loss: 0.6861 - val_acc: 0.4387\n",
      "\n",
      "Epoch 00007: val_acc did not improve from 0.43867\n",
      "Epoch 8/50\n",
      "30000/30000 [==============================] - 49s 2ms/step - loss: 0.6851 - acc: 0.4334 - val_loss: 0.6850 - val_acc: 0.4387\n",
      "\n",
      "Epoch 00008: val_acc did not improve from 0.43867\n",
      "Epoch 9/50\n",
      "30000/30000 [==============================] - 54s 2ms/step - loss: 0.6844 - acc: 0.4359 - val_loss: 0.6859 - val_acc: 0.4387\n",
      "\n",
      "Epoch 00009: val_acc did not improve from 0.43867\n",
      "Epoch 10/50\n",
      "30000/30000 [==============================] - 44s 1ms/step - loss: 0.6816 - acc: 0.4386 - val_loss: 0.6854 - val_acc: 0.4387\n",
      "\n",
      "Epoch 00010: val_acc did not improve from 0.43867\n",
      "Epoch 11/50\n",
      "30000/30000 [==============================] - 42s 1ms/step - loss: 0.6802 - acc: 0.4439 - val_loss: 0.6856 - val_acc: 0.4387\n",
      "\n",
      "Epoch 00011: val_acc did not improve from 0.43867\n",
      "Epoch 12/50\n",
      "30000/30000 [==============================] - 42s 1ms/step - loss: 0.6786 - acc: 0.4576 - val_loss: 0.6853 - val_acc: 0.4387\n",
      "\n",
      "Epoch 00012: val_acc did not improve from 0.43867\n",
      "Epoch 13/50\n",
      "30000/30000 [==============================] - 42s 1ms/step - loss: 0.6760 - acc: 0.4708 - val_loss: 0.6859 - val_acc: 0.4387\n",
      "\n",
      "Epoch 00013: val_acc did not improve from 0.43867\n",
      "Epoch 00013: early stopping\n"
     ]
    },
    {
     "data": {
      "text/plain": [
       "<keras.callbacks.History at 0x7fbe69f96ac8>"
      ]
     },
     "execution_count": 74,
     "metadata": {},
     "output_type": "execute_result"
    }
   ],
   "source": [
    "#Fit the model\n",
    "model.fit(X_train_indices, Y_train, epochs = 50, batch_size = 32, validation_split=0.2, callbacks=[checkpointer, early_stopping], shuffle=True)"
   ]
  },
  {
   "cell_type": "code",
   "execution_count": 75,
   "metadata": {},
   "outputs": [
    {
     "name": "stdout",
     "output_type": "stream",
     "text": [
      "12500/12500 [==============================] - 4s 286us/step\n",
      "Accuracy: [0.689021662197113, 0.4304]\n"
     ]
    }
   ],
   "source": [
    "X_test_indices = convert_sentence_to_indices(X_test, words_to_index, 50)\n",
    "pred = model.predict(X_test_indices)\n",
    "print('Accuracy: {}'.format(model.evaluate(X_test_indices, Y_test)))\n"
   ]
  },
  {
   "cell_type": "markdown",
   "metadata": {},
   "source": [
    "Compiling the created model with loss function, optimizer and evaluation metrics. \n",
    "For this task we are using `binary_crossentropy` as loss function and `adam` as optimizer and `accuracy` as a evaluation metric "
   ]
  },
  {
   "cell_type": "markdown",
   "metadata": {},
   "source": [
    "Plotting model and the history of the model"
   ]
  },
  {
   "cell_type": "code",
   "execution_count": 63,
   "metadata": {},
   "outputs": [],
   "source": [
    "#plot_model(model, to_file='model.png')"
   ]
  },
  {
   "cell_type": "code",
   "execution_count": 66,
   "metadata": {},
   "outputs": [
    {
     "data": {
      "image/png": "[encoded data removed]",
      "text/plain": [
       "<Figure size 432x288 with 1 Axes>"
      ]
     },
     "metadata": {
      "needs_background": "light"
     },
     "output_type": "display_data"
    },
    {
     "data": {
      "image/png": "[encoded data removed]",
      "text/plain": [
       "<Figure size 432x288 with 1 Axes>"
      ]
     },
     "metadata": {
      "needs_background": "light"
     },
     "output_type": "display_data"
    }
   ],
   "source": [
    "# Plot training & validation accuracy values\n",
    "plt.plot(model.history.history['acc'])\n",
    "plt.plot(model.history.history['val_acc'])\n",
    "plt.title('Model accuracy')\n",
    "plt.ylabel('Accuracy')\n",
    "plt.xlabel('Epoch')\n",
    "plt.legend(['Train', 'Test'], loc='upper left')\n",
    "plt.show()\n",
    "\n",
    "# Plot training & validation loss values\n",
    "plt.plot(model.history.history['loss'])\n",
    "plt.plot(model.history.history['val_loss'])\n",
    "plt.title('Model loss')\n",
    "plt.ylabel('Loss')\n",
    "plt.xlabel('Epoch')\n",
    "plt.legend(['Train', 'Test'], loc='upper left')\n",
    "plt.show()"
   ]
  }
 ],
 "metadata": {
  "kernelspec": {
   "display_name": "Python 3",
   "language": "python",
   "name": "python3"
  },
  "language_info": {
   "codemirror_mode": {
    "name": "ipython",
    "version": 3
   },
   "file_extension": ".py",
   "mimetype": "text/x-python",
   "name": "python",
   "nbconvert_exporter": "python",
   "pygments_lexer": "ipython3",
   "version": "3.5.2"
  }
 },
 "nbformat": 4,
 "nbformat_minor": 2
}
